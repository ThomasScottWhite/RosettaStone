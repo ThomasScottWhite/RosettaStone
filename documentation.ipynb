{
 "cells": [
  {
   "cell_type": "markdown",
   "metadata": {},
   "source": [
    "# Project 1 : Rosetta  Stone\n",
    "\n",
    "### Step 1: Define The Problem\n",
    "Due to frequently changing programing languages, I often have to go back to basic language documentation to relearn what an language looks like.<br>\n",
    "\n",
    "- Constraints:\n",
    "    - Must be completed in a week. <br>\n",
    "    - Have at least Python, c#, C++ <br>\n",
    "\n",
    "#### Step 2: Brainstorm Solutions\n",
    "- <u> Brainstorming: </u> <br>\n",
    "    - Programing Language Cheat Sheet: <br>\n",
    "        - A rosetta stone/cheat sheet of basic definitions for each language. <br>\n",
    "<br>\n",
    "    - Example Projects for each language\n",
    "        - Pros: Gives valuable experience and more would be a better example of use cases for the languages. Cons: Very time consuming<br>\n",
    "\n",
    "\n",
    "#### Step 3: Develop Solution\n",
    "Due to time constraints and ease of use the programing I chose to implement the cheat sheet / rosetta stone idea. However the cheat sheets will still be in the formatting of the respective programing language's syntax.<br>\n",
    "\n",
    "- Cheat Sheet Minimum Requirements:\n",
    "    - Variables(int, string,booleans,floats,etc) <br>\n",
    "    - Math <br>\n",
    "    - Functions<br>\n",
    "    - If Statements<br>\n",
    "    - For Loops<br>\n",
    "    - While Loops<br>\n",
    "    - Arrays<br>\n",
    "    - Classes/Objects<br>\n",
    "\n",
    "- Languages (Most to Least important)\n",
    "    - Python Done <br>\n",
    "    - C# Done <br>\n",
    "    - C++ Done  <br>\n",
    "    - Lua skiped <br>\n",
    "\n",
    "- Stretch Goal languages\n",
    "    - HTML <br>\n",
    "    - CSS <br>\n",
    "    - SQL <br>\n",
    "    - Javascript <br>\n",
    "\n",
    "- Research Required\n",
    "    - Go though the documentation or examples of each coding language <br>\n",
    "    - if there is a enough time, research web development and SQL <br>\n",
    "    \n",
    "#### Step 4: Construct and Test Solutions\n",
    "Since python is practically pseudocode, it is the first language I am going to create an example with and base all examples off of.<br>\n",
    "due to length the examples can be found in Resume/Code/Example Code and in Resume/Code/Projects/Project 1 - Rosetta Stone/Example Code <br>\n",
    "\n",
    "#### Step 5: Remarks \n",
    "Due to time constrants the project wasn't entirely finished, however the 3 most important languages that were vital were completed. Stretch goal languages are planned to be completed later once more experience is gained in web development."
   ]
  },
  {
   "cell_type": "markdown",
   "metadata": {},
   "source": []
  }
 ],
 "metadata": {
  "language_info": {
   "name": "python"
  },
  "orig_nbformat": 4
 },
 "nbformat": 4,
 "nbformat_minor": 2
}
